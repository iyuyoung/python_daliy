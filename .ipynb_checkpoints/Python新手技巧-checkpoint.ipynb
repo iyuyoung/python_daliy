{
 "cells": [
  {
   "cell_type": "markdown",
   "id": "9ebd6dd5",
   "metadata": {},
   "source": [
    "### Python加减乘除"
   ]
  },
  {
   "cell_type": "code",
   "execution_count": 1,
   "id": "4059d3e9",
   "metadata": {},
   "outputs": [],
   "source": [
    "### 普通方法\n",
    "number = 10\n",
    "number = number + 5\n",
    "print(number)"
   ]
  },
  {
   "cell_type": "code",
   "execution_count": 7,
   "id": "6a24e8a1",
   "metadata": {},
   "outputs": [
    {
     "name": "stdout",
     "output_type": "stream",
     "text": [
      "10+5=15\n",
      "10-5=5\n",
      "10*5=50\n",
      "10/5=2.0\n",
      "10的5次方=100000\n"
     ]
    }
   ],
   "source": [
    "### 正确方法\n",
    "number = 10\n",
    "number += 5\n",
    "print(\"10+5=\" + str(number))\n",
    "\n",
    "number = 10\n",
    "number -= 5\n",
    "print(\"10-5=\" + str(number))\n",
    "\n",
    "number = 10\n",
    "number *= 5\n",
    "print(\"10*5=\" + str(number))\n",
    "\n",
    "number = 10\n",
    "number /=5\n",
    "print(\"10/5=\" + str(number))\n",
    "\n",
    "number = 10\n",
    "number **=5\n",
    "print(\"10的5次方=\" + str(number))"
   ]
  },
  {
   "cell_type": "code",
   "execution_count": null,
   "id": "b4441d1c",
   "metadata": {},
   "outputs": [],
   "source": []
  }
 ],
 "metadata": {
  "kernelspec": {
   "display_name": "Python 3 (ipykernel)",
   "language": "python",
   "name": "python3"
  },
  "language_info": {
   "codemirror_mode": {
    "name": "ipython",
    "version": 3
   },
   "file_extension": ".py",
   "mimetype": "text/x-python",
   "name": "python",
   "nbconvert_exporter": "python",
   "pygments_lexer": "ipython3",
   "version": "3.9.7"
  }
 },
 "nbformat": 4,
 "nbformat_minor": 5
}
