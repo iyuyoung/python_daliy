{
 "cells": [
  {
   "cell_type": "code",
   "execution_count": 16,
   "id": "630dea38",
   "metadata": {},
   "outputs": [
    {
     "name": "stdout",
     "output_type": "stream",
     "text": [
      "2022-11-30 10:19:03.322231\n",
      "文件已存在\n"
     ]
    }
   ],
   "source": [
    "import os\n",
    "import datetime\n",
    "file = os.path.isfile('a.txt')\n",
    "if file is False:\n",
    "    with open('a.txt','w') as f:\n",
    "        now = datetime.datetime.today()\n",
    "        f.write(str(now))\n",
    "    print('文件创建成功')\n",
    "else:\n",
    "    with open('a.txt','r') as f:\n",
    "        print(f.readline())\n",
    "    # 删除文件\n",
    "    os.remove('a.txt')\n",
    "    print('文件已存在')"
   ]
  },
  {
   "cell_type": "code",
   "execution_count": 7,
   "id": "4e43d137",
   "metadata": {},
   "outputs": [
    {
     "name": "stdout",
     "output_type": "stream",
     "text": [
      "2022-11-30 10:15:54.672638\n"
     ]
    }
   ],
   "source": [
    "print(datetime.datetime.today())"
   ]
  },
  {
   "cell_type": "code",
   "execution_count": null,
   "id": "ec75cc41",
   "metadata": {},
   "outputs": [],
   "source": []
  }
 ],
 "metadata": {
  "kernelspec": {
   "display_name": "Python 3 (ipykernel)",
   "language": "python",
   "name": "python3"
  },
  "language_info": {
   "codemirror_mode": {
    "name": "ipython",
    "version": 3
   },
   "file_extension": ".py",
   "mimetype": "text/x-python",
   "name": "python",
   "nbconvert_exporter": "python",
   "pygments_lexer": "ipython3",
   "version": "3.9.7"
  }
 },
 "nbformat": 4,
 "nbformat_minor": 5
}
