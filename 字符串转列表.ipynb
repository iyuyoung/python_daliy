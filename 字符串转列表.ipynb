{
 "cells": [
  {
   "cell_type": "markdown",
   "id": "8165b4b3",
   "metadata": {},
   "source": [
    "## 字符串转列表"
   ]
  },
  {
   "cell_type": "code",
   "execution_count": 3,
   "id": "7ea9d326",
   "metadata": {},
   "outputs": [
    {
     "name": "stdout",
     "output_type": "stream",
     "text": [
      "['Hello', 'world', 'Hello', 'Python']\n"
     ]
    }
   ],
   "source": [
    "txt = 'Hello world Hello Python'\n",
    "print(txt.split(' '))"
   ]
  },
  {
   "cell_type": "code",
   "execution_count": 4,
   "id": "2565b09d",
   "metadata": {},
   "outputs": [
    {
     "name": "stdout",
     "output_type": "stream",
     "text": [
      "['1', '2', '3', '4', '5']\n"
     ]
    }
   ],
   "source": [
    "number = '1,2,3,4,5'\n",
    "print(number.split(','))"
   ]
  },
  {
   "cell_type": "code",
   "execution_count": null,
   "id": "4a8920ee",
   "metadata": {},
   "outputs": [],
   "source": []
  }
 ],
 "metadata": {
  "kernelspec": {
   "display_name": "Python 3 (ipykernel)",
   "language": "python",
   "name": "python3"
  },
  "language_info": {
   "codemirror_mode": {
    "name": "ipython",
    "version": 3
   },
   "file_extension": ".py",
   "mimetype": "text/x-python",
   "name": "python",
   "nbconvert_exporter": "python",
   "pygments_lexer": "ipython3",
   "version": "3.9.7"
  }
 },
 "nbformat": 4,
 "nbformat_minor": 5
}
